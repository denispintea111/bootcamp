{
 "cells": [
  {
   "cell_type": "markdown",
   "metadata": {},
   "source": [
    "# Practical exam"
   ]
  },
  {
   "cell_type": "code",
   "execution_count": null,
   "metadata": {},
   "outputs": [],
   "source": [
    "### Please state your name here:Pintea Denis\n"
   ]
  },
  {
   "cell_type": "code",
   "execution_count": 1,
   "metadata": {},
   "outputs": [
    {
     "name": "stdout",
     "output_type": "stream",
     "text": [
      "Note: you may need to restart the kernel to use updated packages.\n"
     ]
    },
    {
     "name": "stderr",
     "output_type": "stream",
     "text": [
      "ERROR: Exception:\n",
      "Traceback (most recent call last):\n",
      "  File \"c:\\programs\\miniconda3\\lib\\site-packages\\pip\\_vendor\\urllib3\\response.py\", line 438, in _error_catcher\n",
      "    yield\n",
      "  File \"c:\\programs\\miniconda3\\lib\\site-packages\\pip\\_vendor\\urllib3\\response.py\", line 519, in read\n",
      "    data = self._fp.read(amt) if not fp_closed else b\"\"\n",
      "  File \"c:\\programs\\miniconda3\\lib\\site-packages\\pip\\_vendor\\cachecontrol\\filewrapper.py\", line 62, in read\n",
      "    data = self.__fp.read(amt)\n",
      "  File \"c:\\programs\\miniconda3\\lib\\http\\client.py\", line 463, in read\n",
      "    n = self.readinto(b)\n",
      "  File \"c:\\programs\\miniconda3\\lib\\http\\client.py\", line 507, in readinto\n",
      "    n = self.fp.readinto(b)\n",
      "  File \"c:\\programs\\miniconda3\\lib\\socket.py\", line 704, in readinto\n",
      "    return self._sock.recv_into(b)\n",
      "  File \"c:\\programs\\miniconda3\\lib\\ssl.py\", line 1241, in recv_into\n",
      "    return self.read(nbytes, buffer)\n",
      "  File \"c:\\programs\\miniconda3\\lib\\ssl.py\", line 1099, in read\n",
      "    return self._sslobj.read(len, buffer)\n",
      "ConnectionResetError: [WinError 10054] An existing connection was forcibly closed by the remote host\n",
      "\n",
      "During handling of the above exception, another exception occurred:\n",
      "\n",
      "Traceback (most recent call last):\n",
      "  File \"c:\\programs\\miniconda3\\lib\\site-packages\\pip\\_internal\\cli\\base_command.py\", line 173, in _main\n",
      "    status = self.run(options, args)\n",
      "  File \"c:\\programs\\miniconda3\\lib\\site-packages\\pip\\_internal\\cli\\req_command.py\", line 203, in wrapper\n",
      "    return func(self, options, args)\n",
      "  File \"c:\\programs\\miniconda3\\lib\\site-packages\\pip\\_internal\\commands\\install.py\", line 315, in run\n",
      "    requirement_set = resolver.resolve(\n",
      "  File \"c:\\programs\\miniconda3\\lib\\site-packages\\pip\\_internal\\resolution\\resolvelib\\resolver.py\", line 94, in resolve\n",
      "    result = self._result = resolver.resolve(\n",
      "  File \"c:\\programs\\miniconda3\\lib\\site-packages\\pip\\_vendor\\resolvelib\\resolvers.py\", line 472, in resolve\n",
      "    state = resolution.resolve(requirements, max_rounds=max_rounds)\n",
      "  File \"c:\\programs\\miniconda3\\lib\\site-packages\\pip\\_vendor\\resolvelib\\resolvers.py\", line 341, in resolve\n",
      "    self._add_to_criteria(self.state.criteria, r, parent=None)\n",
      "  File \"c:\\programs\\miniconda3\\lib\\site-packages\\pip\\_vendor\\resolvelib\\resolvers.py\", line 172, in _add_to_criteria\n",
      "    if not criterion.candidates:\n",
      "  File \"c:\\programs\\miniconda3\\lib\\site-packages\\pip\\_vendor\\resolvelib\\structs.py\", line 151, in __bool__\n",
      "    return bool(self._sequence)\n",
      "  File \"c:\\programs\\miniconda3\\lib\\site-packages\\pip\\_internal\\resolution\\resolvelib\\found_candidates.py\", line 140, in __bool__\n",
      "    return any(self)\n",
      "  File \"c:\\programs\\miniconda3\\lib\\site-packages\\pip\\_internal\\resolution\\resolvelib\\found_candidates.py\", line 128, in <genexpr>\n",
      "    return (c for c in iterator if id(c) not in self._incompatible_ids)\n",
      "  File \"c:\\programs\\miniconda3\\lib\\site-packages\\pip\\_internal\\resolution\\resolvelib\\found_candidates.py\", line 82, in _iter_built_with_inserted\n",
      "    candidate = func()\n",
      "  File \"c:\\programs\\miniconda3\\lib\\site-packages\\pip\\_internal\\resolution\\resolvelib\\factory.py\", line 204, in _make_candidate_from_link\n",
      "    self._link_candidate_cache[link] = LinkCandidate(\n",
      "  File \"c:\\programs\\miniconda3\\lib\\site-packages\\pip\\_internal\\resolution\\resolvelib\\candidates.py\", line 295, in __init__\n",
      "    super().__init__(\n",
      "  File \"c:\\programs\\miniconda3\\lib\\site-packages\\pip\\_internal\\resolution\\resolvelib\\candidates.py\", line 156, in __init__\n",
      "    self.dist = self._prepare()\n",
      "  File \"c:\\programs\\miniconda3\\lib\\site-packages\\pip\\_internal\\resolution\\resolvelib\\candidates.py\", line 227, in _prepare\n",
      "    dist = self._prepare_distribution()\n",
      "  File \"c:\\programs\\miniconda3\\lib\\site-packages\\pip\\_internal\\resolution\\resolvelib\\candidates.py\", line 305, in _prepare_distribution\n",
      "    return self._factory.preparer.prepare_linked_requirement(\n",
      "  File \"c:\\programs\\miniconda3\\lib\\site-packages\\pip\\_internal\\operations\\prepare.py\", line 508, in prepare_linked_requirement\n",
      "    return self._prepare_linked_requirement(req, parallel_builds)\n",
      "  File \"c:\\programs\\miniconda3\\lib\\site-packages\\pip\\_internal\\operations\\prepare.py\", line 550, in _prepare_linked_requirement\n",
      "    local_file = unpack_url(\n",
      "  File \"c:\\programs\\miniconda3\\lib\\site-packages\\pip\\_internal\\operations\\prepare.py\", line 239, in unpack_url\n",
      "    file = get_http_url(\n",
      "  File \"c:\\programs\\miniconda3\\lib\\site-packages\\pip\\_internal\\operations\\prepare.py\", line 102, in get_http_url\n",
      "    from_path, content_type = download(link, temp_dir.path)\n",
      "  File \"c:\\programs\\miniconda3\\lib\\site-packages\\pip\\_internal\\network\\download.py\", line 145, in __call__\n",
      "    for chunk in chunks:\n",
      "  File \"c:\\programs\\miniconda3\\lib\\site-packages\\pip\\_internal\\cli\\progress_bars.py\", line 144, in iter\n",
      "    for x in it:\n",
      "  File \"c:\\programs\\miniconda3\\lib\\site-packages\\pip\\_internal\\network\\utils.py\", line 63, in response_chunks\n",
      "    for chunk in response.raw.stream(\n",
      "  File \"c:\\programs\\miniconda3\\lib\\site-packages\\pip\\_vendor\\urllib3\\response.py\", line 576, in stream\n",
      "    data = self.read(amt=amt, decode_content=decode_content)\n",
      "  File \"c:\\programs\\miniconda3\\lib\\site-packages\\pip\\_vendor\\urllib3\\response.py\", line 541, in read\n",
      "    raise IncompleteRead(self._fp_bytes_read, self.length_remaining)\n",
      "  File \"c:\\programs\\miniconda3\\lib\\contextlib.py\", line 137, in __exit__\n",
      "    self.gen.throw(typ, value, traceback)\n",
      "  File \"c:\\programs\\miniconda3\\lib\\site-packages\\pip\\_vendor\\urllib3\\response.py\", line 455, in _error_catcher\n",
      "    raise ProtocolError(\"Connection broken: %r\" % e, e)\n",
      "pip._vendor.urllib3.exceptions.ProtocolError: (\"Connection broken: ConnectionResetError(10054, 'An existing connection was forcibly closed by the remote host', None, 10054, None)\", ConnectionResetError(10054, 'An existing connection was forcibly closed by the remote host', None, 10054, None))\n"
     ]
    },
    {
     "name": "stdout",
     "output_type": "stream",
     "text": [
      "Note: you may need to restart the kernel to use updated packages.\n"
     ]
    }
   ],
   "source": [
    "# make sure requirements are up to date\n",
    "%pip install --upgrade pip >> results/requirements_log.txt\n",
    "%pip install -r ../requirements.txt >> results/requirements_log.txt"
   ]
  },
  {
   "cell_type": "markdown",
   "metadata": {},
   "source": [
    "### 1.\n",
    "\n",
    "Given the below snippet, add the necessary code lines in function f2 in order to obtain the expected output:"
   ]
  },
  {
   "cell_type": "code",
   "execution_count": 152,
   "metadata": {},
   "outputs": [
    {
     "name": "stdout",
     "output_type": "stream",
     "text": [
      "~~~ 1\n",
      "{'cubed': 3}\n",
      "{'squared': 2}\n"
     ]
    }
   ],
   "source": [
    "\n",
    "def f2(n):\n",
    "    for i in range(1, n):\n",
    "        print(f\"~~~ {i}\")\n",
    "        l1={'cubed':i*3}\n",
    "        l2={'squared':i*2}\n",
    "        return l1,l2\n",
    "        \n",
    "\n",
    "\n",
    "n = 5\n",
    "for x in f2(n):\n",
    "    print(x)"
   ]
  },
  {
   "cell_type": "markdown",
   "metadata": {},
   "source": [
    "Expected output:\n",
    "\n",
    "```\n",
    "~~~ 1\n",
    "{'cubed': 1}\n",
    "{'squared': 1}\n",
    "@@@ 1\n",
    "~~~ 2\n",
    "{'cubed': 8}\n",
    "{'squared': 4}\n",
    "@@@ 2\n",
    "~~~ 3\n",
    "{'cubed': 27}\n",
    "{'squared': 9}\n",
    "@@@ 3\n",
    "~~~ 4\n",
    "{'cubed': 64}\n",
    "{'squared': 16}\n",
    "@@@ 4\n",
    "```"
   ]
  },
  {
   "cell_type": "markdown",
   "metadata": {},
   "source": [
    "### 2.\n",
    "\n",
    "Under **resources**, there are two input files, [input_file_1.csv](/2022/python_workshop/notebooks/resources/input_file_1.csv) and [input_file_2.csv](/2022/python_workshop/notebooks/resources/input_file_2.csv).\n",
    "\n",
    "Given the two input files, remove the duplicates.\n",
    "\n",
    "If rows in all files are combined, there must be NO duplicates. Solution should include 2 functions, one for reading data from files and one for writing data to files. A partial solution without functions is accepted.\n",
    "\n",
    "Expected output: two separate output files under results/expected, [output_file_1.csv](/2022/python_workshop/notebooks/results/expected/output_file_1.csv) and [output_file_2.csv](/2022/python_workshop/notebooks/results/expected/output_file_2.csv)."
   ]
  },
  {
   "cell_type": "code",
   "execution_count": 30,
   "metadata": {},
   "outputs": [],
   "source": [
    "\n",
    "\n",
    "def remove_duplicates(infile):\n",
    "    storehouse = set()\n",
    "    with open('./results/output1.csv', 'w+') as out:\n",
    "        for line in open(infile):\n",
    "            if line not in storehouse:\n",
    "                out.write(line)\n",
    "                storehouse.add(line)\n",
    "\n",
    "remove_duplicates('./resources/input_file_1.csv')\n",
    "\n",
    "def remove_duplicates(infile):\n",
    "    storehouse = set()\n",
    "    with open('./results/output2.csv', 'w+') as out:\n",
    "        for line in open(infile):\n",
    "            if line not in storehouse:\n",
    "                out.write(line)\n",
    "                storehouse.add(line)\n",
    "\n",
    "remove_duplicates('./resources/input_file_2.csv')"
   ]
  },
  {
   "cell_type": "markdown",
   "metadata": {},
   "source": [
    "### 3.\n",
    "\n",
    "Using the [data.gov.ro](https://data.gov.ro/dataset/acreditarea-unitatilor-sanitare-2021) API, extract the \"accredited hospitals 2021\" data set (link available below).\n",
    "\n",
    "Alternatively, if the API is down, use the backup file **hospitals.csv** from the **resources** folder as a source."
   ]
  },
  {
   "cell_type": "code",
   "execution_count": 2,
   "metadata": {},
   "outputs": [],
   "source": [
    "import requests\n",
    "import pandas as pd"
   ]
  },
  {
   "cell_type": "code",
   "execution_count": 84,
   "metadata": {},
   "outputs": [
    {
     "data": {
      "text/html": [
       "<div>\n",
       "<style scoped>\n",
       "    .dataframe tbody tr th:only-of-type {\n",
       "        vertical-align: middle;\n",
       "    }\n",
       "\n",
       "    .dataframe tbody tr th {\n",
       "        vertical-align: top;\n",
       "    }\n",
       "\n",
       "    .dataframe thead th {\n",
       "        text-align: right;\n",
       "    }\n",
       "</style>\n",
       "<table border=\"1\" class=\"dataframe\">\n",
       "  <thead>\n",
       "    <tr style=\"text-align: right;\">\n",
       "      <th></th>\n",
       "      <th>Nr. Crt.</th>\n",
       "      <th>Nume</th>\n",
       "      <th>Cod A.N.M.C.S.</th>\n",
       "      <th>Judet</th>\n",
       "      <th>Clasificare</th>\n",
       "      <th>TIP USP (in functie de specificul patologiei tratate)</th>\n",
       "      <th>TIP USP (in functie de regimul proprietatii)</th>\n",
       "      <th>TIP USP (din punct de vedere al invatamantului si al cercetarii stiintifice medicale)</th>\n",
       "      <th>Adresa completa a sediului principal</th>\n",
       "      <th>Adresa email oficiala</th>\n",
       "      <th>Website</th>\n",
       "      <th>Autoritatea tutelara</th>\n",
       "      <th>Acreditare ciclul I</th>\n",
       "      <th>Acreditare ciclul II</th>\n",
       "      <th></th>\n",
       "      <th>__1</th>\n",
       "      <th>__2</th>\n",
       "    </tr>\n",
       "  </thead>\n",
       "  <tbody>\n",
       "    <tr>\n",
       "      <th>0</th>\n",
       "      <td>1</td>\n",
       "      <td>SPITALUL MUNICIPAL CALAFAT</td>\n",
       "      <td>A001</td>\n",
       "      <td>Dolj</td>\n",
       "      <td>IV</td>\n",
       "      <td>general</td>\n",
       "      <td>public</td>\n",
       "      <td>fara invatamant</td>\n",
       "      <td>B-dul. T. Vladimirescu, Nr. 24, Calafat, cod 2...</td>\n",
       "      <td>spitalcalafat@gmail.com</td>\n",
       "      <td>spitalcalafat.ro</td>\n",
       "      <td>PRIMARIA MUNICIPIULUI CALAFAT</td>\n",
       "      <td>Acreditat</td>\n",
       "      <td>Categoria V Decizie de prelungire a procesului...</td>\n",
       "      <td></td>\n",
       "      <td></td>\n",
       "      <td></td>\n",
       "    </tr>\n",
       "    <tr>\n",
       "      <th>1</th>\n",
       "      <td>2</td>\n",
       "      <td>SPITALUL DE PSIHIATRIE CRONICI SCHITU GRECI</td>\n",
       "      <td>A002</td>\n",
       "      <td>Olt</td>\n",
       "      <td>V</td>\n",
       "      <td>afectiuni cronice</td>\n",
       "      <td>public</td>\n",
       "      <td>fara invatamant</td>\n",
       "      <td>SLATINA STR. A. I. CUZA NR. 14</td>\n",
       "      <td>spitalulschitu@gmail.com</td>\n",
       "      <td>www.spitalul-schitu.ro</td>\n",
       "      <td>CONSILIUL JUDETEAN OLT</td>\n",
       "      <td>Acreditat</td>\n",
       "      <td>Categoria V Decizie de prelungire a procesului...</td>\n",
       "      <td></td>\n",
       "      <td></td>\n",
       "      <td></td>\n",
       "    </tr>\n",
       "    <tr>\n",
       "      <th>2</th>\n",
       "      <td>3</td>\n",
       "      <td>SPITALUL CLINIC NICOLAE MALAXA</td>\n",
       "      <td>A003</td>\n",
       "      <td>Bucuresti</td>\n",
       "      <td>III</td>\n",
       "      <td>general</td>\n",
       "      <td>public</td>\n",
       "      <td>clinic cu sectii universitare</td>\n",
       "      <td>STR. DIMITRIE CANTEMIR, NR.1, PARTER, SECT.4, ...</td>\n",
       "      <td>secretariat@spitalmalaxa.ro</td>\n",
       "      <td>www.spitalmalaxa.ro</td>\n",
       "      <td>ASSMB</td>\n",
       "      <td>Acreditat</td>\n",
       "      <td>Categoria IV Acreditat cu incredere redusa</td>\n",
       "      <td></td>\n",
       "      <td></td>\n",
       "      <td></td>\n",
       "    </tr>\n",
       "    <tr>\n",
       "      <th>3</th>\n",
       "      <td>4</td>\n",
       "      <td>SPITALUL MILITAR DE URGENTA \"REGINA MARIA\" BRA?OV</td>\n",
       "      <td>A004</td>\n",
       "      <td>Brasov</td>\n",
       "      <td>III</td>\n",
       "      <td>urgenta</td>\n",
       "      <td>public</td>\n",
       "      <td>fara invatamant</td>\n",
       "      <td>Bucuresti, Str. Institutul Medico-Militar, Nr....</td>\n",
       "      <td>smureginamaria@rdsbv.ro</td>\n",
       "      <td>www.smubrasov.ro</td>\n",
       "      <td>DIRECtIA MEDICALa a Ministerului Apararii Nati...</td>\n",
       "      <td>Acreditat</td>\n",
       "      <td>Categoria II Acreditat cu recomandari</td>\n",
       "      <td></td>\n",
       "      <td></td>\n",
       "      <td></td>\n",
       "    </tr>\n",
       "    <tr>\n",
       "      <th>4</th>\n",
       "      <td>5</td>\n",
       "      <td>SPITALUL ORASENESC INEU</td>\n",
       "      <td>A005</td>\n",
       "      <td>Arad</td>\n",
       "      <td>IV</td>\n",
       "      <td>general</td>\n",
       "      <td>public</td>\n",
       "      <td>fara invatamant</td>\n",
       "      <td>Calea Republicii, nr. 5</td>\n",
       "      <td>spitalineu@yahoo.ro</td>\n",
       "      <td>http://www.spitalineu.ro</td>\n",
       "      <td>Primaria Orasului Ineu</td>\n",
       "      <td>Acreditat</td>\n",
       "      <td>Categoria V Decizie de prelungire a procesului...</td>\n",
       "      <td></td>\n",
       "      <td></td>\n",
       "      <td></td>\n",
       "    </tr>\n",
       "  </tbody>\n",
       "</table>\n",
       "</div>"
      ],
      "text/plain": [
       "  Nr. Crt.                                               Nume Cod A.N.M.C.S.  \\\n",
       "0        1                         SPITALUL MUNICIPAL CALAFAT           A001   \n",
       "1        2        SPITALUL DE PSIHIATRIE CRONICI SCHITU GRECI           A002   \n",
       "2        3                     SPITALUL CLINIC NICOLAE MALAXA           A003   \n",
       "3        4  SPITALUL MILITAR DE URGENTA \"REGINA MARIA\" BRA?OV           A004   \n",
       "4        5                            SPITALUL ORASENESC INEU           A005   \n",
       "\n",
       "       Judet Clasificare  \\\n",
       "0       Dolj          IV   \n",
       "1        Olt           V   \n",
       "2  Bucuresti         III   \n",
       "3     Brasov         III   \n",
       "4       Arad          IV   \n",
       "\n",
       "  TIP USP (in functie de specificul patologiei tratate)  \\\n",
       "0                                            general      \n",
       "1                                  afectiuni cronice      \n",
       "2                                            general      \n",
       "3                                            urgenta      \n",
       "4                                            general      \n",
       "\n",
       "  TIP USP (in functie de regimul proprietatii)  \\\n",
       "0                                       public   \n",
       "1                                       public   \n",
       "2                                       public   \n",
       "3                                       public   \n",
       "4                                       public   \n",
       "\n",
       "  TIP USP (din punct de vedere al invatamantului si al cercetarii stiintifice medicale)  \\\n",
       "0                                    fara invatamant                                      \n",
       "1                                    fara invatamant                                      \n",
       "2                      clinic cu sectii universitare                                      \n",
       "3                                    fara invatamant                                      \n",
       "4                                    fara invatamant                                      \n",
       "\n",
       "                Adresa completa a sediului principal  \\\n",
       "0  B-dul. T. Vladimirescu, Nr. 24, Calafat, cod 2...   \n",
       "1                     SLATINA STR. A. I. CUZA NR. 14   \n",
       "2  STR. DIMITRIE CANTEMIR, NR.1, PARTER, SECT.4, ...   \n",
       "3  Bucuresti, Str. Institutul Medico-Militar, Nr....   \n",
       "4                            Calea Republicii, nr. 5   \n",
       "\n",
       "         Adresa email oficiala                   Website  \\\n",
       "0      spitalcalafat@gmail.com          spitalcalafat.ro   \n",
       "1     spitalulschitu@gmail.com    www.spitalul-schitu.ro   \n",
       "2  secretariat@spitalmalaxa.ro       www.spitalmalaxa.ro   \n",
       "3      smureginamaria@rdsbv.ro          www.smubrasov.ro   \n",
       "4          spitalineu@yahoo.ro  http://www.spitalineu.ro   \n",
       "\n",
       "                                Autoritatea tutelara Acreditare ciclul I  \\\n",
       "0                      PRIMARIA MUNICIPIULUI CALAFAT           Acreditat   \n",
       "1                             CONSILIUL JUDETEAN OLT           Acreditat   \n",
       "2                                              ASSMB           Acreditat   \n",
       "3  DIRECtIA MEDICALa a Ministerului Apararii Nati...           Acreditat   \n",
       "4                             Primaria Orasului Ineu           Acreditat   \n",
       "\n",
       "                                Acreditare ciclul II   __1 __2  \n",
       "0  Categoria V Decizie de prelungire a procesului...            \n",
       "1  Categoria V Decizie de prelungire a procesului...            \n",
       "2         Categoria IV Acreditat cu incredere redusa            \n",
       "3              Categoria II Acreditat cu recomandari            \n",
       "4  Categoria V Decizie de prelungire a procesului...            "
      ]
     },
     "execution_count": 84,
     "metadata": {},
     "output_type": "execute_result"
    }
   ],
   "source": [
    "url_hospitals = 'https://data.gov.ro/dataset/4197b53e-7c91-4fcc-be07-883076d40ffc/resource/7a343719-d625-4b5c-98b5-895a684d61c4/download/anmcs-acreditare-unitati-sanitare-dec2021.json'\n",
    "r = requests.get(url_hospitals)\n",
    "j = r.json()\n",
    "hospitals = pd.DataFrame(j)\n",
    "\n",
    "hospitals.head()\n",
    "\n"
   ]
  },
  {
   "cell_type": "markdown",
   "metadata": {},
   "source": []
  },
  {
   "cell_type": "markdown",
   "metadata": {},
   "source": [
    "How many rows are in this dataset?"
   ]
  },
  {
   "cell_type": "code",
   "execution_count": 75,
   "metadata": {},
   "outputs": [
    {
     "data": {
      "text/plain": [
       "1365"
      ]
     },
     "execution_count": 75,
     "metadata": {},
     "output_type": "execute_result"
    }
   ],
   "source": [
    "hospitals.shape[0]\n"
   ]
  },
  {
   "cell_type": "markdown",
   "metadata": {},
   "source": [
    "What are the columns in this dataset?"
   ]
  },
  {
   "cell_type": "code",
   "execution_count": 77,
   "metadata": {},
   "outputs": [
    {
     "name": "stdout",
     "output_type": "stream",
     "text": [
      "['Nr. Crt.', 'Nume', 'Cod A.N.M.C.S.', 'Judet', 'Clasificare', 'TIP USP (in functie de specificul patologiei tratate)', 'TIP USP (in functie de regimul proprietatii)', 'TIP USP (din punct de vedere al invatamantului si al cercetarii stiintifice medicale)', 'Adresa completa a sediului principal', 'Adresa email oficiala', 'Website', 'Autoritatea tutelara', 'Acreditare ciclul I', 'Acreditare ciclul II', '', '__1', '__2']\n"
     ]
    }
   ],
   "source": [
    "l=list(hospitals.head(0))\n",
    "print(l)"
   ]
  },
  {
   "cell_type": "markdown",
   "metadata": {},
   "source": []
  },
  {
   "cell_type": "markdown",
   "metadata": {},
   "source": [
    "Drop the unnecessary columns:\n",
    "* Nr. Crt.\n",
    "* TIP USP (din punct de vedere al invatamantului si al cercetarii stiintifice medicale)\n",
    "* the last three columns"
   ]
  },
  {
   "cell_type": "code",
   "execution_count": 78,
   "metadata": {},
   "outputs": [],
   "source": [
    "hospitals.drop(['Nr. Crt.'], axis=1)\n",
    "hospitals.drop(['TIP USP (din punct de vedere al invatamantului si al cercetarii stiintifice medicale)'], axis=1)\n",
    "\n",
    "hospitals = hospitals.iloc[:, :-1]"
   ]
  },
  {
   "cell_type": "markdown",
   "metadata": {},
   "source": [
    "Apply the following transformations to the columns, so that they are easier to work with:\n",
    "* lowercase all columns\n",
    "* `TIP USP (in functie de specificul patologiei tratate)` rename to `tip_patologie`\n",
    "* `TIP USP (in functie de regimul proprietatii)` rename to `tip`\n",
    "* `Adresa completa a sediului principal` rename to `adresa`\n",
    "* `Adresa email oficiala` rename to `email`\n",
    "* `Autoritatea tutelara` rename to `autoritate_tutelara`\n",
    "* `Acreditare ciclul I` rename to `acreditare_i`\n",
    "* `Acreditare ciclul II` rename to `acreditare_ii`"
   ]
  },
  {
   "cell_type": "code",
   "execution_count": 109,
   "metadata": {},
   "outputs": [],
   "source": [
    "hospitals.columns= hospitals.columns.str.lower()\n",
    "hospitals.columns\n",
    "\n",
    "hospitals.rename(columns = {'tip usp (in functie de specificul patologiei tratate)':'tip_patologie', 'tip usp (in functie de regimul proprietatii)':'tip','adresa completa a sediului principal':'adresa','adresa email oficiala':'email','autoritatea tutelara':'autoritate_tutelara','acreditare ciclul i':'acreditare_i','acreditare ciclul ii':''}, inplace = True)\n"
   ]
  },
  {
   "cell_type": "markdown",
   "metadata": {},
   "source": [
    "The total number of hospitals in this dataset is 762, however the actual number of rows is greater than that.\n",
    "\n",
    "Identify and remove the empty (blank space) rows."
   ]
  },
  {
   "cell_type": "code",
   "execution_count": 118,
   "metadata": {},
   "outputs": [
    {
     "data": {
      "text/html": [
       "<div>\n",
       "<style scoped>\n",
       "    .dataframe tbody tr th:only-of-type {\n",
       "        vertical-align: middle;\n",
       "    }\n",
       "\n",
       "    .dataframe tbody tr th {\n",
       "        vertical-align: top;\n",
       "    }\n",
       "\n",
       "    .dataframe thead th {\n",
       "        text-align: right;\n",
       "    }\n",
       "</style>\n",
       "<table border=\"1\" class=\"dataframe\">\n",
       "  <thead>\n",
       "    <tr style=\"text-align: right;\">\n",
       "      <th></th>\n",
       "      <th>nr. crt.</th>\n",
       "      <th>nume</th>\n",
       "      <th>cod a.n.m.c.s.</th>\n",
       "      <th>judet</th>\n",
       "      <th>clasificare</th>\n",
       "      <th>tip_patologie</th>\n",
       "      <th>tip</th>\n",
       "      <th>tip usp (din punct de vedere al invatamantului si al cercetarii stiintifice medicale)</th>\n",
       "      <th>adresa</th>\n",
       "      <th>email</th>\n",
       "      <th>website</th>\n",
       "      <th>autoritate_tutelara</th>\n",
       "      <th>acreditare_i</th>\n",
       "      <th></th>\n",
       "      <th></th>\n",
       "      <th>__1</th>\n",
       "      <th>__2</th>\n",
       "    </tr>\n",
       "  </thead>\n",
       "  <tbody>\n",
       "    <tr>\n",
       "      <th>0</th>\n",
       "      <td>1</td>\n",
       "      <td>SPITALUL MUNICIPAL CALAFAT</td>\n",
       "      <td>A001</td>\n",
       "      <td>Dolj</td>\n",
       "      <td>IV</td>\n",
       "      <td>general</td>\n",
       "      <td>public</td>\n",
       "      <td>fara invatamant</td>\n",
       "      <td>B-dul. T. Vladimirescu, Nr. 24, Calafat, cod 2...</td>\n",
       "      <td>spitalcalafat@gmail.com</td>\n",
       "      <td>spitalcalafat.ro</td>\n",
       "      <td>PRIMARIA MUNICIPIULUI CALAFAT</td>\n",
       "      <td>Acreditat</td>\n",
       "      <td>Categoria V Decizie de prelungire a procesului...</td>\n",
       "      <td></td>\n",
       "      <td></td>\n",
       "      <td></td>\n",
       "    </tr>\n",
       "    <tr>\n",
       "      <th>1</th>\n",
       "      <td>2</td>\n",
       "      <td>SPITALUL DE PSIHIATRIE CRONICI SCHITU GRECI</td>\n",
       "      <td>A002</td>\n",
       "      <td>Olt</td>\n",
       "      <td>V</td>\n",
       "      <td>afectiuni cronice</td>\n",
       "      <td>public</td>\n",
       "      <td>fara invatamant</td>\n",
       "      <td>SLATINA STR. A. I. CUZA NR. 14</td>\n",
       "      <td>spitalulschitu@gmail.com</td>\n",
       "      <td>www.spitalul-schitu.ro</td>\n",
       "      <td>CONSILIUL JUDETEAN OLT</td>\n",
       "      <td>Acreditat</td>\n",
       "      <td>Categoria V Decizie de prelungire a procesului...</td>\n",
       "      <td></td>\n",
       "      <td></td>\n",
       "      <td></td>\n",
       "    </tr>\n",
       "    <tr>\n",
       "      <th>2</th>\n",
       "      <td>3</td>\n",
       "      <td>SPITALUL CLINIC NICOLAE MALAXA</td>\n",
       "      <td>A003</td>\n",
       "      <td>Bucuresti</td>\n",
       "      <td>III</td>\n",
       "      <td>general</td>\n",
       "      <td>public</td>\n",
       "      <td>clinic cu sectii universitare</td>\n",
       "      <td>STR. DIMITRIE CANTEMIR, NR.1, PARTER, SECT.4, ...</td>\n",
       "      <td>secretariat@spitalmalaxa.ro</td>\n",
       "      <td>www.spitalmalaxa.ro</td>\n",
       "      <td>ASSMB</td>\n",
       "      <td>Acreditat</td>\n",
       "      <td>Categoria IV Acreditat cu incredere redusa</td>\n",
       "      <td></td>\n",
       "      <td></td>\n",
       "      <td></td>\n",
       "    </tr>\n",
       "    <tr>\n",
       "      <th>3</th>\n",
       "      <td>4</td>\n",
       "      <td>SPITALUL MILITAR DE URGENTA \"REGINA MARIA\" BRA?OV</td>\n",
       "      <td>A004</td>\n",
       "      <td>Brasov</td>\n",
       "      <td>III</td>\n",
       "      <td>urgenta</td>\n",
       "      <td>public</td>\n",
       "      <td>fara invatamant</td>\n",
       "      <td>Bucuresti, Str. Institutul Medico-Militar, Nr....</td>\n",
       "      <td>smureginamaria@rdsbv.ro</td>\n",
       "      <td>www.smubrasov.ro</td>\n",
       "      <td>DIRECtIA MEDICALa a Ministerului Apararii Nati...</td>\n",
       "      <td>Acreditat</td>\n",
       "      <td>Categoria II Acreditat cu recomandari</td>\n",
       "      <td></td>\n",
       "      <td></td>\n",
       "      <td></td>\n",
       "    </tr>\n",
       "    <tr>\n",
       "      <th>4</th>\n",
       "      <td>5</td>\n",
       "      <td>SPITALUL ORASENESC INEU</td>\n",
       "      <td>A005</td>\n",
       "      <td>Arad</td>\n",
       "      <td>IV</td>\n",
       "      <td>general</td>\n",
       "      <td>public</td>\n",
       "      <td>fara invatamant</td>\n",
       "      <td>Calea Republicii, nr. 5</td>\n",
       "      <td>spitalineu@yahoo.ro</td>\n",
       "      <td>http://www.spitalineu.ro</td>\n",
       "      <td>Primaria Orasului Ineu</td>\n",
       "      <td>Acreditat</td>\n",
       "      <td>Categoria V Decizie de prelungire a procesului...</td>\n",
       "      <td></td>\n",
       "      <td></td>\n",
       "      <td></td>\n",
       "    </tr>\n",
       "  </tbody>\n",
       "</table>\n",
       "</div>"
      ],
      "text/plain": [
       "  nr. crt.                                               nume cod a.n.m.c.s.  \\\n",
       "0        1                         SPITALUL MUNICIPAL CALAFAT           A001   \n",
       "1        2        SPITALUL DE PSIHIATRIE CRONICI SCHITU GRECI           A002   \n",
       "2        3                     SPITALUL CLINIC NICOLAE MALAXA           A003   \n",
       "3        4  SPITALUL MILITAR DE URGENTA \"REGINA MARIA\" BRA?OV           A004   \n",
       "4        5                            SPITALUL ORASENESC INEU           A005   \n",
       "\n",
       "       judet clasificare      tip_patologie     tip  \\\n",
       "0       Dolj          IV            general  public   \n",
       "1        Olt           V  afectiuni cronice  public   \n",
       "2  Bucuresti         III            general  public   \n",
       "3     Brasov         III            urgenta  public   \n",
       "4       Arad          IV            general  public   \n",
       "\n",
       "  tip usp (din punct de vedere al invatamantului si al cercetarii stiintifice medicale)  \\\n",
       "0                                    fara invatamant                                      \n",
       "1                                    fara invatamant                                      \n",
       "2                      clinic cu sectii universitare                                      \n",
       "3                                    fara invatamant                                      \n",
       "4                                    fara invatamant                                      \n",
       "\n",
       "                                              adresa  \\\n",
       "0  B-dul. T. Vladimirescu, Nr. 24, Calafat, cod 2...   \n",
       "1                     SLATINA STR. A. I. CUZA NR. 14   \n",
       "2  STR. DIMITRIE CANTEMIR, NR.1, PARTER, SECT.4, ...   \n",
       "3  Bucuresti, Str. Institutul Medico-Militar, Nr....   \n",
       "4                            Calea Republicii, nr. 5   \n",
       "\n",
       "                         email                   website  \\\n",
       "0      spitalcalafat@gmail.com          spitalcalafat.ro   \n",
       "1     spitalulschitu@gmail.com    www.spitalul-schitu.ro   \n",
       "2  secretariat@spitalmalaxa.ro       www.spitalmalaxa.ro   \n",
       "3      smureginamaria@rdsbv.ro          www.smubrasov.ro   \n",
       "4          spitalineu@yahoo.ro  http://www.spitalineu.ro   \n",
       "\n",
       "                                 autoritate_tutelara acreditare_i  \\\n",
       "0                      PRIMARIA MUNICIPIULUI CALAFAT    Acreditat   \n",
       "1                             CONSILIUL JUDETEAN OLT    Acreditat   \n",
       "2                                              ASSMB    Acreditat   \n",
       "3  DIRECtIA MEDICALa a Ministerului Apararii Nati...    Acreditat   \n",
       "4                             Primaria Orasului Ineu    Acreditat   \n",
       "\n",
       "                                                       __1 __2  \n",
       "0  Categoria V Decizie de prelungire a procesului...            \n",
       "1  Categoria V Decizie de prelungire a procesului...            \n",
       "2         Categoria IV Acreditat cu incredere redusa            \n",
       "3              Categoria II Acreditat cu recomandari            \n",
       "4  Categoria V Decizie de prelungire a procesului...            "
      ]
     },
     "execution_count": 118,
     "metadata": {},
     "output_type": "execute_result"
    }
   ],
   "source": [
    "hospitals.drop(hospitals.loc[762:].index,inplace=True)"
   ]
  },
  {
   "cell_type": "markdown",
   "metadata": {},
   "source": [
    "How many public hospitals and how many private hospitals are in this dataset?"
   ]
  },
  {
   "cell_type": "code",
   "execution_count": 81,
   "metadata": {},
   "outputs": [
    {
     "name": "stdout",
     "output_type": "stream",
     "text": [
      "380 382\n"
     ]
    }
   ],
   "source": [
    "public=hospitals.query(\"tip=='public'\").count()[0]\n",
    "private=hospitals.query(\"tip=='privat'\").count()[0]\n",
    "print(public,private)"
   ]
  },
  {
   "cell_type": "markdown",
   "metadata": {},
   "source": [
    "Inspect the values in the `acreditare_i` column + print them."
   ]
  },
  {
   "cell_type": "code",
   "execution_count": 129,
   "metadata": {},
   "outputs": [
    {
     "data": {
      "text/html": [
       "<div>\n",
       "<style scoped>\n",
       "    .dataframe tbody tr th:only-of-type {\n",
       "        vertical-align: middle;\n",
       "    }\n",
       "\n",
       "    .dataframe tbody tr th {\n",
       "        vertical-align: top;\n",
       "    }\n",
       "\n",
       "    .dataframe thead th {\n",
       "        text-align: right;\n",
       "    }\n",
       "</style>\n",
       "<table border=\"1\" class=\"dataframe\">\n",
       "  <thead>\n",
       "    <tr style=\"text-align: right;\">\n",
       "      <th></th>\n",
       "      <th>acreditare_i</th>\n",
       "    </tr>\n",
       "  </thead>\n",
       "  <tbody>\n",
       "    <tr>\n",
       "      <th>0</th>\n",
       "      <td>Acreditat</td>\n",
       "    </tr>\n",
       "    <tr>\n",
       "      <th>1</th>\n",
       "      <td>Acreditat</td>\n",
       "    </tr>\n",
       "    <tr>\n",
       "      <th>2</th>\n",
       "      <td>Acreditat</td>\n",
       "    </tr>\n",
       "    <tr>\n",
       "      <th>3</th>\n",
       "      <td>Acreditat</td>\n",
       "    </tr>\n",
       "    <tr>\n",
       "      <th>4</th>\n",
       "      <td>Acreditat</td>\n",
       "    </tr>\n",
       "    <tr>\n",
       "      <th>...</th>\n",
       "      <td>...</td>\n",
       "    </tr>\n",
       "    <tr>\n",
       "      <th>1360</th>\n",
       "      <td></td>\n",
       "    </tr>\n",
       "    <tr>\n",
       "      <th>1361</th>\n",
       "      <td></td>\n",
       "    </tr>\n",
       "    <tr>\n",
       "      <th>1362</th>\n",
       "      <td></td>\n",
       "    </tr>\n",
       "    <tr>\n",
       "      <th>1363</th>\n",
       "      <td></td>\n",
       "    </tr>\n",
       "    <tr>\n",
       "      <th>1364</th>\n",
       "      <td></td>\n",
       "    </tr>\n",
       "  </tbody>\n",
       "</table>\n",
       "<p>1365 rows × 1 columns</p>\n",
       "</div>"
      ],
      "text/plain": [
       "     acreditare_i\n",
       "0       Acreditat\n",
       "1       Acreditat\n",
       "2       Acreditat\n",
       "3       Acreditat\n",
       "4       Acreditat\n",
       "...           ...\n",
       "1360             \n",
       "1361             \n",
       "1362             \n",
       "1363             \n",
       "1364             \n",
       "\n",
       "[1365 rows x 1 columns]"
      ]
     },
     "execution_count": 129,
     "metadata": {},
     "output_type": "execute_result"
    }
   ],
   "source": [
    "hospitals[['acreditare_i']]\n"
   ]
  },
  {
   "cell_type": "markdown",
   "metadata": {},
   "source": [
    "Create a dataframe containing the hospitals that are *not* accredited."
   ]
  },
  {
   "cell_type": "code",
   "execution_count": 148,
   "metadata": {},
   "outputs": [],
   "source": [
    "df_new=hospitals.query(\"acreditare_i != 'Acreditat'\")\n",
    "\n"
   ]
  },
  {
   "cell_type": "markdown",
   "metadata": {},
   "source": [
    "How many hospitals are *not* accredited?"
   ]
  },
  {
   "cell_type": "code",
   "execution_count": 115,
   "metadata": {},
   "outputs": [
    {
     "data": {
      "text/plain": [
       "943"
      ]
     },
     "execution_count": 115,
     "metadata": {},
     "output_type": "execute_result"
    }
   ],
   "source": [
    "hospitals.query(\"acreditare_i != 'Acreditat'\").count()[0]"
   ]
  },
  {
   "cell_type": "markdown",
   "metadata": {},
   "source": [
    "Pick a county (judet) for a more in-depth analysis.\n",
    "(Bucuresti is also a county)"
   ]
  },
  {
   "cell_type": "code",
   "execution_count": 45,
   "metadata": {},
   "outputs": [],
   "source": [
    "judet ='Constanta'"
   ]
  },
  {
   "cell_type": "markdown",
   "metadata": {},
   "source": [
    "According to this dataset, how many hospitals are in this county?"
   ]
  },
  {
   "cell_type": "code",
   "execution_count": 48,
   "metadata": {},
   "outputs": [
    {
     "data": {
      "text/plain": [
       "42"
      ]
     },
     "execution_count": 48,
     "metadata": {},
     "output_type": "execute_result"
    }
   ],
   "source": [
    "hospitals.query(\"judet=='Constanta'\").count()[0]"
   ]
  },
  {
   "cell_type": "markdown",
   "metadata": {},
   "source": [
    "For the chosen county, create a Dataframe that contains the following information:\n",
    "* judet\n",
    "* tip (public, privat)\n",
    "* count of unaccredited hospitals\n",
    "* count of accredited hospitals"
   ]
  },
  {
   "cell_type": "code",
   "execution_count": 147,
   "metadata": {},
   "outputs": [
    {
     "data": {
      "text/html": [
       "<div>\n",
       "<style scoped>\n",
       "    .dataframe tbody tr th:only-of-type {\n",
       "        vertical-align: middle;\n",
       "    }\n",
       "\n",
       "    .dataframe tbody tr th {\n",
       "        vertical-align: top;\n",
       "    }\n",
       "\n",
       "    .dataframe thead th {\n",
       "        text-align: right;\n",
       "    }\n",
       "</style>\n",
       "<table border=\"1\" class=\"dataframe\">\n",
       "  <thead>\n",
       "    <tr style=\"text-align: right;\">\n",
       "      <th></th>\n",
       "      <th>judet</th>\n",
       "      <th>tip</th>\n",
       "    </tr>\n",
       "  </thead>\n",
       "  <tbody>\n",
       "    <tr>\n",
       "      <th>0</th>\n",
       "      <td>Dolj</td>\n",
       "      <td>public</td>\n",
       "    </tr>\n",
       "    <tr>\n",
       "      <th>1</th>\n",
       "      <td>Olt</td>\n",
       "      <td>public</td>\n",
       "    </tr>\n",
       "    <tr>\n",
       "      <th>2</th>\n",
       "      <td>Bucuresti</td>\n",
       "      <td>public</td>\n",
       "    </tr>\n",
       "    <tr>\n",
       "      <th>3</th>\n",
       "      <td>Brasov</td>\n",
       "      <td>public</td>\n",
       "    </tr>\n",
       "    <tr>\n",
       "      <th>4</th>\n",
       "      <td>Arad</td>\n",
       "      <td>public</td>\n",
       "    </tr>\n",
       "  </tbody>\n",
       "</table>\n",
       "</div>"
      ],
      "text/plain": [
       "       judet     tip\n",
       "0       Dolj  public\n",
       "1        Olt  public\n",
       "2  Bucuresti  public\n",
       "3     Brasov  public\n",
       "4       Arad  public"
      ]
     },
     "execution_count": 147,
     "metadata": {},
     "output_type": "execute_result"
    }
   ],
   "source": [
    "\n",
    "\n",
    "stat=hospitals[['judet','tip']].copy()\n",
    "stat.head()\n",
    "    "
   ]
  },
  {
   "cell_type": "markdown",
   "metadata": {},
   "source": [
    "Create a plot that highlights\n",
    "* the number of accredited public hospitals\n",
    "* the number of accredited private hospitals\n",
    "* the number of unaccredited public hospitals\n",
    "* the number of unaccredited private hospitals\n",
    "\n",
    "The expected output for Bucuresti can be found  [here](/2022/python_workshop/notebooks/results/expected/output_test.png)."
   ]
  },
  {
   "cell_type": "code",
   "execution_count": null,
   "metadata": {},
   "outputs": [],
   "source": [
    "plot_acreditat = stat[stat['tip']=='public']plot(title=\"plot acreditat\", ylabel=\"plot acreditat\")\n"
   ]
  },
  {
   "cell_type": "code",
   "execution_count": null,
   "metadata": {},
   "outputs": [],
   "source": [
    "plot_acreditat.plot(title=f\"{driver}\", ylabel=\"plot acreditat\")"
   ]
  },
  {
   "cell_type": "code",
   "execution_count": null,
   "metadata": {},
   "outputs": [],
   "source": [
    "plot_neacreditat =stat[stat['tip']=='public']plot(title=\"plot anecreditat\", ylabel=\"plot neacreditat\")"
   ]
  },
  {
   "cell_type": "code",
   "execution_count": null,
   "metadata": {},
   "outputs": [],
   "source": []
  },
  {
   "cell_type": "code",
   "execution_count": null,
   "metadata": {},
   "outputs": [],
   "source": [
    "plot_data = stat[stat['data']]plot(title=\"plot acreditat\", ylabel=\"plot acreditat\")\n",
    "plot_data.head()"
   ]
  },
  {
   "cell_type": "code",
   "execution_count": null,
   "metadata": {},
   "outputs": [],
   "source": [
    "plot_data.plot(kind=\"bar\")"
   ]
  }
 ],
 "metadata": {
  "kernelspec": {
   "display_name": "Python 3.9.12 ('base')",
   "language": "python",
   "name": "python3"
  },
  "language_info": {
   "codemirror_mode": {
    "name": "ipython",
    "version": 3
   },
   "file_extension": ".py",
   "mimetype": "text/x-python",
   "name": "python",
   "nbconvert_exporter": "python",
   "pygments_lexer": "ipython3",
   "version": "3.9.12"
  },
  "orig_nbformat": 4,
  "vscode": {
   "interpreter": {
    "hash": "d31b83e9610685068a0fe73b54051d44dc1110027bef1c52e64b671e72faac45"
   }
  }
 },
 "nbformat": 4,
 "nbformat_minor": 2
}
